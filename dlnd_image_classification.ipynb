{
 "cells": [
  {
   "cell_type": "markdown",
   "metadata": {
    "collapsed": true
   },
   "source": [
    "# Image Classification\n",
    "In this project, you'll classify images from the [CIFAR-10 dataset](https://www.cs.toronto.edu/~kriz/cifar.html).  The dataset consists of airplanes, dogs, cats, and other objects. You'll preprocess the images, then train a convolutional neural network on all the samples. The images need to be normalized and the labels need to be one-hot encoded.  You'll get to apply what you learned and build a convolutional, max pooling, dropout, and fully connected layers.  At the end, you'll get to see your neural network's predictions on the sample images.\n",
    "## Get the Data\n",
    "Run the following cell to download the [CIFAR-10 dataset for python](https://www.cs.toronto.edu/~kriz/cifar-10-python.tar.gz)."
   ]
  },
  {
   "cell_type": "code",
   "execution_count": 1,
   "metadata": {},
   "outputs": [
    {
     "name": "stderr",
     "output_type": "stream",
     "text": [
      "CIFAR-10 Dataset: 171MB [01:42, 1.66MB/s]                                                                              \n"
     ]
    },
    {
     "name": "stdout",
     "output_type": "stream",
     "text": [
      "All files found!\n"
     ]
    }
   ],
   "source": [
    "\"\"\"\n",
    "DON'T MODIFY ANYTHING IN THIS CELL THAT IS BELOW THIS LINE\n",
    "\"\"\"\n",
    "from urllib.request import urlretrieve\n",
    "from os.path import isfile, isdir\n",
    "from tqdm import tqdm\n",
    "import problem_unittests as tests\n",
    "import tarfile\n",
    "\n",
    "cifar10_dataset_folder_path = 'cifar-10-batches-py'\n",
    "\n",
    "# Use Floyd's cifar-10 dataset if present\n",
    "floyd_cifar10_location = '/input/cifar-10/python.tar.gz'\n",
    "if isfile(floyd_cifar10_location):\n",
    "    tar_gz_path = floyd_cifar10_location\n",
    "else:\n",
    "    tar_gz_path = 'cifar-10-python.tar.gz'\n",
    "\n",
    "class DLProgress(tqdm):\n",
    "    last_block = 0\n",
    "\n",
    "    def hook(self, block_num=1, block_size=1, total_size=None):\n",
    "        self.total = total_size\n",
    "        self.update((block_num - self.last_block) * block_size)\n",
    "        self.last_block = block_num\n",
    "\n",
    "if not isfile(tar_gz_path):\n",
    "    with DLProgress(unit='B', unit_scale=True, miniters=1, desc='CIFAR-10 Dataset') as pbar:\n",
    "        urlretrieve(\n",
    "            'https://www.cs.toronto.edu/~kriz/cifar-10-python.tar.gz',\n",
    "            tar_gz_path,\n",
    "            pbar.hook)\n",
    "\n",
    "if not isdir(cifar10_dataset_folder_path):\n",
    "    with tarfile.open(tar_gz_path) as tar:\n",
    "        tar.extractall()\n",
    "        tar.close()\n",
    "\n",
    "\n",
    "tests.test_folder_path(cifar10_dataset_folder_path)"
   ]
  },
  {
   "cell_type": "markdown",
   "metadata": {},
   "source": [
    "## Explore the Data\n",
    "The dataset is broken into batches to prevent your machine from running out of memory.  The CIFAR-10 dataset consists of 5 batches, named `data_batch_1`, `data_batch_2`, etc.. Each batch contains the labels and images that are one of the following:\n",
    "* airplane\n",
    "* automobile\n",
    "* bird\n",
    "* cat\n",
    "* deer\n",
    "* dog\n",
    "* frog\n",
    "* horse\n",
    "* ship\n",
    "* truck\n",
    "\n",
    "Understanding a dataset is part of making predictions on the data.  Play around with the code cell below by changing the `batch_id` and `sample_id`. The `batch_id` is the id for a batch (1-5). The `sample_id` is the id for a image and label pair in the batch.\n",
    "\n",
    "Ask yourself \"What are all possible labels?\", \"What is the range of values for the image data?\", \"Are the labels in order or random?\".  Answers to questions like these will help you preprocess the data and end up with better predictions."
   ]
  },
  {
   "cell_type": "code",
   "execution_count": 214,
   "metadata": {},
   "outputs": [
    {
     "name": "stdout",
     "output_type": "stream",
     "text": [
      "\n",
      "Stats of batch 1:\n",
      "Samples: 10000\n",
      "Label Counts: {0: 1005, 1: 974, 2: 1032, 3: 1016, 4: 999, 5: 937, 6: 1030, 7: 1001, 8: 1025, 9: 981}\n",
      "First 20 Labels: [6, 9, 9, 4, 1, 1, 2, 7, 8, 3, 4, 7, 7, 2, 9, 9, 9, 3, 2, 6]\n",
      "\n",
      "Example of Image 1:\n",
      "Image - Min Value: 5 Max Value: 254\n",
      "Image - Shape: (32, 32, 3)\n",
      "Label - Label Id: 9 Name: truck\n"
     ]
    },
    {
     "data": {
      "image/png": "[encoded data removed]",
      "text/plain": [
       "<matplotlib.figure.Figure at 0x180cb8204a8>"
      ]
     },
     "metadata": {
      "image/png": {
       "height": 250,
       "width": 253
      }
     },
     "output_type": "display_data"
    }
   ],
   "source": [
    "%matplotlib inline\n",
    "%config InlineBackend.figure_format = 'retina'\n",
    "\n",
    "import helper\n",
    "import numpy as np\n",
    "\n",
    "# Explore the dataset\n",
    "batch_id = 1\n",
    "sample_id = 1\n",
    "helper.display_stats(cifar10_dataset_folder_path, batch_id, sample_id)"
   ]
  },
  {
   "cell_type": "markdown",
   "metadata": {},
   "source": [
    "## Implement Preprocess Functions\n",
    "### Normalize\n",
    "In the cell below, implement the `normalize` function to take in image data, `x`, and return it as a normalized Numpy array. The values should be in the range of 0 to 1, inclusive.  The return object should be the same shape as `x`."
   ]
  },
  {
   "cell_type": "code",
   "execution_count": 215,
   "metadata": {},
   "outputs": [
    {
     "name": "stdout",
     "output_type": "stream",
     "text": [
      "Tests Passed\n"
     ]
    }
   ],
   "source": [
    "def normalize(x):\n",
    "    \"\"\"\n",
    "    Normalize a list of sample image data in the range of 0 to 1\n",
    "    : x: List of image data.  The image shape is (32, 32, 3)\n",
    "    : return: Numpy array of normalize data\n",
    "    \"\"\"\n",
    "    # TODO: Implement Function\n",
    "    return np.array( x/255.)\n",
    "\n",
    "\n",
    "\"\"\"\n",
    "DON'T MODIFY ANYTHING IN THIS CELL THAT IS BELOW THIS LINE\n",
    "\"\"\"\n",
    "tests.test_normalize(normalize)"
   ]
  },
  {
   "cell_type": "markdown",
   "metadata": {},
   "source": [
    "### One-hot encode\n",
    "Just like the previous code cell, you'll be implementing a function for preprocessing.  This time, you'll implement the `one_hot_encode` function. The input, `x`, are a list of labels.  Implement the function to return the list of labels as One-Hot encoded Numpy array.  The possible values for labels are 0 to 9. The one-hot encoding function should return the same encoding for each value between each call to `one_hot_encode`.  Make sure to save the map of encodings outside the function.\n",
    "\n",
    "Hint: Don't reinvent the wheel."
   ]
  },
  {
   "cell_type": "code",
   "execution_count": 216,
   "metadata": {},
   "outputs": [
    {
     "name": "stdout",
     "output_type": "stream",
     "text": [
      "Tests Passed\n"
     ]
    }
   ],
   "source": [
    "import numpy as np\n",
    "from sklearn import preprocessing\n",
    "\n",
    "def one_hot_encode(x):\n",
    "    \"\"\"\n",
    "    One hot encode a list of sample labels. Return a one-hot encoded vector for each label.\n",
    "    : x: List of sample Labels\n",
    "    : return: Numpy array of one-hot encoded labels\n",
    "    \"\"\"\n",
    "    # TODO: Implement Function    \n",
    "    lb = preprocessing.LabelBinarizer(neg_label=0, pos_label=1, sparse_output=False)\n",
    "    lb.fit(np.array([[0,0,0,0,0,0,0,0,0,0],[0,0,0,0,0,0,0,0,0,0]]))\n",
    "    return lb.transform(x)\n",
    "\n",
    "\n",
    "\n",
    "\"\"\"\n",
    "DON'T MODIFY ANYTHING IN THIS CELL THAT IS BELOW THIS LINE\n",
    "\"\"\"\n",
    "tests.test_one_hot_encode(one_hot_encode)"
   ]
  },
  {
   "cell_type": "markdown",
   "metadata": {},
   "source": [
    "### Randomize Data\n",
    "As you saw from exploring the data above, the order of the samples are randomized.  It doesn't hurt to randomize it again, but you don't need to for this dataset."
   ]
  },
  {
   "cell_type": "markdown",
   "metadata": {},
   "source": [
    "## Preprocess all the data and save it\n",
    "Running the code cell below will preprocess all the CIFAR-10 data and save it to file. The code below also uses 10% of the training data for validation."
   ]
  },
  {
   "cell_type": "code",
   "execution_count": 217,
   "metadata": {
    "collapsed": true
   },
   "outputs": [],
   "source": [
    "\"\"\"\n",
    "DON'T MODIFY ANYTHING IN THIS CELL\n",
    "\"\"\"\n",
    "# Preprocess Training, Validation, and Testing Data\n",
    "helper.preprocess_and_save_data(cifar10_dataset_folder_path, normalize, one_hot_encode)"
   ]
  },
  {
   "cell_type": "markdown",
   "metadata": {},
   "source": [
    "# Check Point\n",
    "This is your first checkpoint.  If you ever decide to come back to this notebook or have to restart the notebook, you can start from here.  The preprocessed data has been saved to disk."
   ]
  },
  {
   "cell_type": "code",
   "execution_count": 218,
   "metadata": {
    "collapsed": true
   },
   "outputs": [],
   "source": [
    "\"\"\"\n",
    "DON'T MODIFY ANYTHING IN THIS CELL\n",
    "\"\"\"\n",
    "import pickle\n",
    "import problem_unittests as tests\n",
    "import helper\n",
    "\n",
    "# Load the Preprocessed Validation data\n",
    "valid_features, valid_labels = pickle.load(open('preprocess_validation.p', mode='rb'))"
   ]
  },
  {
   "cell_type": "markdown",
   "metadata": {},
   "source": [
    "## Build the network\n",
    "For the neural network, you'll build each layer into a function.  Most of the code you've seen has been outside of functions. To test your code more thoroughly, we require that you put each layer in a function.  This allows us to give you better feedback and test for simple mistakes using our unittests before you submit your project.\n",
    "\n",
    ">**Note:** If you're finding it hard to dedicate enough time for this course each week, we've provided a small shortcut to this part of the project. In the next couple of problems, you'll have the option to use classes from the [TensorFlow Layers](https://www.tensorflow.org/api_docs/python/tf/layers) or [TensorFlow Layers (contrib)](https://www.tensorflow.org/api_guides/python/contrib.layers) packages to build each layer, except the layers you build in the \"Convolutional and Max Pooling Layer\" section.  TF Layers is similar to Keras's and TFLearn's abstraction to layers, so it's easy to pickup.\n",
    "\n",
    ">However, if you would like to get the most out of this course, try to solve all the problems _without_ using anything from the TF Layers packages. You **can** still use classes from other packages that happen to have the same name as ones you find in TF Layers! For example, instead of using the TF Layers version of the `conv2d` class, [tf.layers.conv2d](https://www.tensorflow.org/api_docs/python/tf/layers/conv2d), you would want to use the TF Neural Network version of `conv2d`, [tf.nn.conv2d](https://www.tensorflow.org/api_docs/python/tf/nn/conv2d). \n",
    "\n",
    "Let's begin!\n",
    "\n",
    "### Input\n",
    "The neural network needs to read the image data, one-hot encoded labels, and dropout keep probability. Implement the following functions\n",
    "* Implement `neural_net_image_input`\n",
    " * Return a [TF Placeholder](https://www.tensorflow.org/api_docs/python/tf/placeholder)\n",
    " * Set the shape using `image_shape` with batch size set to `None`.\n",
    " * Name the TensorFlow placeholder \"x\" using the TensorFlow `name` parameter in the [TF Placeholder](https://www.tensorflow.org/api_docs/python/tf/placeholder).\n",
    "* Implement `neural_net_label_input`\n",
    " * Return a [TF Placeholder](https://www.tensorflow.org/api_docs/python/tf/placeholder)\n",
    " * Set the shape using `n_classes` with batch size set to `None`.\n",
    " * Name the TensorFlow placeholder \"y\" using the TensorFlow `name` parameter in the [TF Placeholder](https://www.tensorflow.org/api_docs/python/tf/placeholder).\n",
    "* Implement `neural_net_keep_prob_input`\n",
    " * Return a [TF Placeholder](https://www.tensorflow.org/api_docs/python/tf/placeholder) for dropout keep probability.\n",
    " * Name the TensorFlow placeholder \"keep_prob\" using the TensorFlow `name` parameter in the [TF Placeholder](https://www.tensorflow.org/api_docs/python/tf/placeholder).\n",
    "\n",
    "These names will be used at the end of the project to load your saved model.\n",
    "\n",
    "Note: `None` for shapes in TensorFlow allow for a dynamic size."
   ]
  },
  {
   "cell_type": "code",
   "execution_count": 219,
   "metadata": {},
   "outputs": [
    {
     "name": "stdout",
     "output_type": "stream",
     "text": [
      "Image Input Tests Passed.\n",
      "Label Input Tests Passed.\n",
      "Keep Prob Tests Passed.\n"
     ]
    }
   ],
   "source": [
    "import tensorflow as tf\n",
    "\n",
    "def neural_net_image_input(image_shape):\n",
    "    \"\"\"\n",
    "    Return a Tensor for a batch of image input\n",
    "    : image_shape: Shape of the images\n",
    "    : return: Tensor for image input.\n",
    "    \"\"\"\n",
    "    # TODO: Implement Function\n",
    " \n",
    "    return tf.placeholder(tf.float32,shape=[None]+list(image_shape),name=\"x\")\n",
    "    \n",
    "\n",
    "def neural_net_label_input(n_classes):\n",
    "    \"\"\"\n",
    "    Return a Tensor for a batch of label input\n",
    "    : n_classes: Number of classes\n",
    "    : return: Tensor for label input.\n",
    "    \"\"\"\n",
    "    # TODO: Implement Function\n",
    "    return tf.placeholder(tf.int32,shape=[None,n_classes],name=\"y\")\n",
    "    \n",
    "\n",
    "\n",
    "def neural_net_keep_prob_input():\n",
    "    \"\"\"\n",
    "    Return a Tensor for keep probability\n",
    "    : return: Tensor for keep probability.\n",
    "    \"\"\"\n",
    "    # TODO: Implement Function\n",
    "    return tf.placeholder(tf.float32,name=\"keep_prob\")\n",
    "   \n",
    "\n",
    "\n",
    "\"\"\"\n",
    "DON'T MODIFY ANYTHING IN THIS CELL THAT IS BELOW THIS LINE\n",
    "\"\"\"\n",
    "tf.reset_default_graph()\n",
    "tests.test_nn_image_inputs(neural_net_image_input)\n",
    "tests.test_nn_label_inputs(neural_net_label_input)\n",
    "tests.test_nn_keep_prob_inputs(neural_net_keep_prob_input)"
   ]
  },
  {
   "cell_type": "markdown",
   "metadata": {},
   "source": [
    "### Convolution and Max Pooling Layer\n",
    "Convolution layers have a lot of success with images. For this code cell, you should implement the function `conv2d_maxpool` to apply convolution then max pooling:\n",
    "* Create the weight and bias using `conv_ksize`, `conv_num_outputs` and the shape of `x_tensor`.\n",
    "* Apply a convolution to `x_tensor` using weight and `conv_strides`.\n",
    " * We recommend you use same padding, but you're welcome to use any padding.\n",
    "* Add bias\n",
    "* Add a nonlinear activation to the convolution.\n",
    "* Apply Max Pooling using `pool_ksize` and `pool_strides`.\n",
    " * We recommend you use same padding, but you're welcome to use any padding.\n",
    "\n",
    "**Note:** You **can't** use [TensorFlow Layers](https://www.tensorflow.org/api_docs/python/tf/layers) or [TensorFlow Layers (contrib)](https://www.tensorflow.org/api_guides/python/contrib.layers) for **this** layer, but you can still use TensorFlow's [Neural Network](https://www.tensorflow.org/api_docs/python/tf/nn) package. You may still use the shortcut option for all the **other** layers."
   ]
  },
  {
   "cell_type": "code",
   "execution_count": 220,
   "metadata": {},
   "outputs": [
    {
     "name": "stdout",
     "output_type": "stream",
     "text": [
      "Tests Passed\n"
     ]
    }
   ],
   "source": [
    "def conv2d_maxpool(x_tensor, conv_num_outputs, conv_ksize, conv_strides, pool_ksize, pool_strides):\n",
    "    \"\"\"\n",
    "    Apply convolution then max pooling to x_tensor\n",
    "    :param x_tensor: TensorFlow Tensor\n",
    "    :param conv_num_outputs: Number of outputs for the convolutional layer\n",
    "    :param conv_ksize: kernal size 2-D Tuple for the convolutional layer\n",
    "    :param conv_strides: Stride 2-D Tuple for convolution\n",
    "    :param pool_ksize: kernal size 2-D Tuple for pool\n",
    "    :param pool_strides: Stride 2-D Tuple for pool\n",
    "    : return: A tensor that represents convolution and max pooling of x_tensor\n",
    "    \"\"\"\n",
    "    # TODO: Implement Function\n",
    "    \n",
    "    depth = x_tensor.get_shape().as_list()[3]\n",
    "    weights = tf.Variable(tf.truncated_normal(shape=[conv_ksize[0],conv_ksize[1],depth, conv_num_outputs], mean=0.0, stddev=0.1))\n",
    "    bias = tf.Variable(tf.zeros([conv_num_outputs]))\n",
    "    x_tensor = tf.nn.conv2d(x_tensor,weights,strides=[1,*conv_strides,1],padding='SAME')\n",
    "    x_tensor = tf.nn.bias_add(x_tensor,bias)\n",
    "    \n",
    "    x_tensor = tf.nn.relu(x_tensor)\n",
    "    \n",
    "    x_tensor = tf.nn.max_pool(x_tensor,ksize=[1,pool_ksize[0],pool_ksize[1],1],strides=[1,pool_strides[0],pool_strides[1],1],padding='SAME')\n",
    "    return x_tensor \n",
    "\n",
    "\n",
    "\"\"\"\n",
    "DON'T MODIFY ANYTHING IN THIS CELL THAT IS BELOW THIS LINE\n",
    "\"\"\"\n",
    "tests.test_con_pool(conv2d_maxpool)"
   ]
  },
  {
   "cell_type": "markdown",
   "metadata": {},
   "source": [
    "### Flatten Layer\n",
    "Implement the `flatten` function to change the dimension of `x_tensor` from a 4-D tensor to a 2-D tensor.  The output should be the shape (*Batch Size*, *Flattened Image Size*). Shortcut option: you can use classes from the [TensorFlow Layers](https://www.tensorflow.org/api_docs/python/tf/layers) or [TensorFlow Layers (contrib)](https://www.tensorflow.org/api_guides/python/contrib.layers) packages for this layer. For more of a challenge, only use other TensorFlow packages."
   ]
  },
  {
   "cell_type": "code",
   "execution_count": 221,
   "metadata": {},
   "outputs": [
    {
     "name": "stdout",
     "output_type": "stream",
     "text": [
      "Tests Passed\n"
     ]
    }
   ],
   "source": [
    "def flatten(x_tensor):\n",
    "    \"\"\"\n",
    "    Flatten x_tensor to (Batch Size, Flattened Image Size)\n",
    "    : x_tensor: A tensor of size (Batch Size, ...), where ... are the image dimensions.\n",
    "    : return: A tensor of size (Batch Size, Flattened Image Size).\n",
    "    \"\"\"\n",
    "    # TODO: Implement Function\n",
    "    tensorShape = x_tensor.get_shape().as_list()[1:]\n",
    "    val = tensorShape[0]*tensorShape[1]*tensorShape[2]\n",
    "    return tf.reshape(x_tensor, (-1, val))\n",
    "    \n",
    "\n",
    "\"\"\"\n",
    "DON'T MODIFY ANYTHING IN THIS CELL THAT IS BELOW THIS LINE\n",
    "\"\"\"\n",
    "tests.test_flatten(flatten)"
   ]
  },
  {
   "cell_type": "markdown",
   "metadata": {},
   "source": [
    "### Fully-Connected Layer\n",
    "Implement the `fully_conn` function to apply a fully connected layer to `x_tensor` with the shape (*Batch Size*, *num_outputs*). Shortcut option: you can use classes from the [TensorFlow Layers](https://www.tensorflow.org/api_docs/python/tf/layers) or [TensorFlow Layers (contrib)](https://www.tensorflow.org/api_guides/python/contrib.layers) packages for this layer. For more of a challenge, only use other TensorFlow packages."
   ]
  },
  {
   "cell_type": "code",
   "execution_count": 222,
   "metadata": {},
   "outputs": [
    {
     "name": "stdout",
     "output_type": "stream",
     "text": [
      "Tests Passed\n"
     ]
    }
   ],
   "source": [
    "def fully_conn(x_tensor, num_outputs):\n",
    "    \"\"\"\n",
    "    Apply a fully connected layer to x_tensor using weight and bias\n",
    "    : x_tensor: A 2-D tensor where the first dimension is batch size.\n",
    "    : num_outputs: The number of output that the new tensor should be.\n",
    "    : return: A 2-D tensor where the second dimension is num_outputs.\n",
    "    \"\"\"\n",
    "    # TODO: Implement Function\n",
    "    _,features = x_tensor.get_shape().as_list()\n",
    "    wt = tf.Variable(tf.truncated_normal(shape=[features,num_outputs],mean=0.0,stddev=0.1))\n",
    "    bias = tf.Variable(tf.zeros(num_outputs))\n",
    "    fc = tf.add(tf.matmul(x_tensor,wt),bias)\n",
    "    fc = tf.nn.relu(fc)\n",
    "    return fc\n",
    "\n",
    "\n",
    "\"\"\"\n",
    "DON'T MODIFY ANYTHING IN THIS CELL THAT IS BELOW THIS LINE\n",
    "\"\"\"\n",
    "tests.test_fully_conn(fully_conn)"
   ]
  },
  {
   "cell_type": "markdown",
   "metadata": {},
   "source": [
    "### Output Layer\n",
    "Implement the `output` function to apply a fully connected layer to `x_tensor` with the shape (*Batch Size*, *num_outputs*). Shortcut option: you can use classes from the [TensorFlow Layers](https://www.tensorflow.org/api_docs/python/tf/layers) or [TensorFlow Layers (contrib)](https://www.tensorflow.org/api_guides/python/contrib.layers) packages for this layer. For more of a challenge, only use other TensorFlow packages.\n",
    "\n",
    "**Note:** Activation, softmax, or cross entropy should **not** be applied to this."
   ]
  },
  {
   "cell_type": "code",
   "execution_count": 223,
   "metadata": {},
   "outputs": [
    {
     "name": "stdout",
     "output_type": "stream",
     "text": [
      "Tests Passed\n"
     ]
    }
   ],
   "source": [
    "def output(x_tensor, num_outputs):\n",
    "    \"\"\"\n",
    "    Apply a output layer to x_tensor using weight and bias\n",
    "    : x_tensor: A 2-D tensor where the first dimension is batch size.\n",
    "    : num_outputs: The number of output that the new tensor should be.\n",
    "    : return: A 2-D tensor where the second dimension is num_outputs.\n",
    "    \"\"\"\n",
    "    # TODO: Implement Function\n",
    "    _,features = x_tensor.get_shape().as_list()\n",
    "    wt = tf.Variable(tf.truncated_normal(shape=[features,num_outputs],mean=0.0,stddev=0.1))\n",
    "    bias = tf.Variable(tf.zeros(num_outputs))\n",
    "    outlayer = tf.add(tf.matmul(x_tensor,wt),bias)\n",
    "    return outlayer\n",
    "\n",
    "\n",
    "\"\"\"\n",
    "DON'T MODIFY ANYTHING IN THIS CELL THAT IS BELOW THIS LINE\n",
    "\"\"\"\n",
    "tests.test_output(output)"
   ]
  },
  {
   "cell_type": "markdown",
   "metadata": {},
   "source": [
    "### Create Convolutional Model\n",
    "Implement the function `conv_net` to create a convolutional neural network model. The function takes in a batch of images, `x`, and outputs logits.  Use the layers you created above to create this model:\n",
    "\n",
    "* Apply 1, 2, or 3 Convolution and Max Pool layers\n",
    "* Apply a Flatten Layer\n",
    "* Apply 1, 2, or 3 Fully Connected Layers\n",
    "* Apply an Output Layer\n",
    "* Return the output\n",
    "* Apply [TensorFlow's Dropout](https://www.tensorflow.org/api_docs/python/tf/nn/dropout) to one or more layers in the model using `keep_prob`. "
   ]
  },
  {
   "cell_type": "code",
   "execution_count": 224,
   "metadata": {},
   "outputs": [
    {
     "name": "stdout",
     "output_type": "stream",
     "text": [
      "Neural Network Built!\n"
     ]
    }
   ],
   "source": [
    "def conv_net(x, keep_prob):\n",
    "    \"\"\"\n",
    "    Create a convolutional neural network model\n",
    "    : x: Placeholder tensor that holds image data.\n",
    "    : keep_prob: Placeholder tensor that hold dropout keep probability.\n",
    "    : return: Tensor that represents logits\n",
    "    \"\"\"\n",
    "    # TODO: Apply 1, 2, or 3 Convolution and Max Pool layers\n",
    "    #    Play around with different number of outputs, kernel size and stride\n",
    "    # Function Definition from Above:\n",
    "    \n",
    "    conv_ksize = (5,5)\n",
    "    conv_strides = (2,2)\n",
    "    pool_ksize = (3,3)\n",
    "    pool_strides = (2,2)\n",
    "    conv_num_outputs1 = 160\n",
    "    conv_num_outputs2 = 320\n",
    "    num_outputs = 10\n",
    "    \n",
    "    conv1 = conv2d_maxpool(x, conv_num_outputs1, conv_ksize, conv_strides, pool_ksize, pool_strides)\n",
    "    conv2 = conv2d_maxpool(conv1, conv_num_outputs2, conv_ksize, conv_strides, pool_ksize, pool_strides)\n",
    "\n",
    "    # TODO: Apply a Flatten Layer\n",
    "    # Function Definition from Above:\n",
    "    x_flat = flatten(conv2)\n",
    "    \n",
    "\n",
    "    # TODO: Apply 1, 2, or 3 Fully Connected Layers\n",
    "    #    Play around with different number of outputs\n",
    "    # Function Definition from Above:\n",
    "    fc = fully_conn(x_flat, 2400)\n",
    "    fc = tf.nn.dropout(fc,keep_prob)\n",
    "    \n",
    "    # TODO: Apply an Output Layer\n",
    "    #    Set this to the number of classes\n",
    "    # Function Definition from Above:\n",
    "    out = output(fc, num_outputs)\n",
    "    \n",
    "    \n",
    "    # TODO: return output\n",
    "    return out\n",
    "\n",
    "\n",
    "\"\"\"\n",
    "DON'T MODIFY ANYTHING IN THIS CELL THAT IS BELOW THIS LINE\n",
    "\"\"\"\n",
    "\n",
    "##############################\n",
    "## Build the Neural Network ##\n",
    "##############################\n",
    "\n",
    "# Remove previous weights, bias, inputs, etc..\n",
    "tf.reset_default_graph()\n",
    "\n",
    "# Inputs\n",
    "x = neural_net_image_input((32, 32, 3))\n",
    "y = neural_net_label_input(10)\n",
    "keep_prob = neural_net_keep_prob_input()\n",
    "\n",
    "# Model\n",
    "logits = conv_net(x, keep_prob)\n",
    "\n",
    "# Name logits Tensor, so that is can be loaded from disk after training\n",
    "logits = tf.identity(logits, name='logits')\n",
    "\n",
    "# Loss and Optimizer\n",
    "cost = tf.reduce_mean(tf.nn.softmax_cross_entropy_with_logits(logits=logits, labels=y))\n",
    "optimizer = tf.train.AdamOptimizer().minimize(cost)\n",
    "\n",
    "# Accuracy\n",
    "correct_pred = tf.equal(tf.argmax(logits, 1), tf.argmax(y, 1))\n",
    "accuracy = tf.reduce_mean(tf.cast(correct_pred, tf.float32), name='accuracy')\n",
    "\n",
    "tests.test_conv_net(conv_net)"
   ]
  },
  {
   "cell_type": "markdown",
   "metadata": {},
   "source": [
    "## Train the Neural Network\n",
    "### Single Optimization\n",
    "Implement the function `train_neural_network` to do a single optimization.  The optimization should use `optimizer` to optimize in `session` with a `feed_dict` of the following:\n",
    "* `x` for image input\n",
    "* `y` for labels\n",
    "* `keep_prob` for keep probability for dropout\n",
    "\n",
    "This function will be called for each batch, so `tf.global_variables_initializer()` has already been called.\n",
    "\n",
    "Note: Nothing needs to be returned. This function is only optimizing the neural network."
   ]
  },
  {
   "cell_type": "code",
   "execution_count": 225,
   "metadata": {},
   "outputs": [
    {
     "name": "stdout",
     "output_type": "stream",
     "text": [
      "Tests Passed\n"
     ]
    }
   ],
   "source": [
    "def train_neural_network(session, optimizer, keep_probability, feature_batch, label_batch):\n",
    "    \"\"\"\n",
    "    Optimize the session on a batch of images and labels\n",
    "    : session: Current TensorFlow session\n",
    "    : optimizer: TensorFlow optimizer function\n",
    "    : keep_probability: keep probability\n",
    "    : feature_batch: Batch of Numpy image data\n",
    "    : label_batch: Batch of Numpy label data\n",
    "    \"\"\"\n",
    "    # TODO: Implement Function\n",
    "    train_nn= session.run(optimizer, feed_dict={x: feature_batch, y: label_batch, keep_prob: keep_probability})\n",
    "\n",
    "\n",
    "\"\"\"\n",
    "DON'T MODIFY ANYTHING IN THIS CELL THAT IS BELOW THIS LINE\n",
    "\"\"\"\n",
    "tests.test_train_nn(train_neural_network)"
   ]
  },
  {
   "cell_type": "markdown",
   "metadata": {},
   "source": [
    "### Show Stats\n",
    "Implement the function `print_stats` to print loss and validation accuracy.  Use the global variables `valid_features` and `valid_labels` to calculate validation accuracy.  Use a keep probability of `1.0` to calculate the loss and validation accuracy."
   ]
  },
  {
   "cell_type": "code",
   "execution_count": 226,
   "metadata": {
    "collapsed": true
   },
   "outputs": [],
   "source": [
    "def print_stats(session, feature_batch, label_batch, cost, accuracy):\n",
    "    \"\"\"\n",
    "    Print information about loss and validation accuracy\n",
    "    : session: Current TensorFlow session\n",
    "    : feature_batch: Batch of Numpy image data\n",
    "    : label_batch: Batch of Numpy label data\n",
    "    : cost: TensorFlow cost function\n",
    "    : accuracy: TensorFlow accuracy function\n",
    "    \"\"\"\n",
    "    # TODO: Implement Function\n",
    "    loss = session.run(cost, feed_dict={x: feature_batch, y: label_batch, keep_prob: 1.0})\n",
    "    v_accuracy = session.run(accuracy, feed_dict={x: valid_features, y: valid_labels, keep_prob: 1.0})\n",
    "    print (\"Loss at {}\".format(loss))\n",
    "    print (\"Validation Accuracy at {}\".format(v_accuracy))\n"
   ]
  },
  {
   "cell_type": "markdown",
   "metadata": {},
   "source": [
    "### Hyperparameters\n",
    "Tune the following parameters:\n",
    "* Set `epochs` to the number of iterations until the network stops learning or start overfitting\n",
    "* Set `batch_size` to the highest number that your machine has memory for.  Most people set them to common sizes of memory:\n",
    " * 64\n",
    " * 128\n",
    " * 256\n",
    " * ...\n",
    "* Set `keep_probability` to the probability of keeping a node using dropout"
   ]
  },
  {
   "cell_type": "code",
   "execution_count": 233,
   "metadata": {
    "collapsed": true
   },
   "outputs": [],
   "source": [
    "# TODO: Tune Parameters\n",
    "epochs = 30\n",
    "batch_size = 128\n",
    "keep_probability = 0.75"
   ]
  },
  {
   "cell_type": "markdown",
   "metadata": {},
   "source": [
    "### Train on a Single CIFAR-10 Batch\n",
    "Instead of training the neural network on all the CIFAR-10 batches of data, let's use a single batch. This should save time while you iterate on the model to get a better accuracy.  Once the final validation accuracy is 50% or greater, run the model on all the data in the next section."
   ]
  },
  {
   "cell_type": "code",
   "execution_count": 234,
   "metadata": {},
   "outputs": [
    {
     "name": "stdout",
     "output_type": "stream",
     "text": [
      "Checking the Training on a Single Batch...\n",
      "Epoch  1, CIFAR-10 Batch 1:  Loss at 1.773573637008667\n",
      "Validation Accuracy at 0.3635999858379364\n",
      "Epoch  2, CIFAR-10 Batch 1:  Loss at 1.4890244007110596\n",
      "Validation Accuracy at 0.4291999936103821\n",
      "Epoch  3, CIFAR-10 Batch 1:  Loss at 1.173352599143982\n",
      "Validation Accuracy at 0.44999998807907104\n",
      "Epoch  4, CIFAR-10 Batch 1:  Loss at 1.0053082704544067\n",
      "Validation Accuracy at 0.48179998993873596\n",
      "Epoch  5, CIFAR-10 Batch 1:  Loss at 0.8732053637504578\n",
      "Validation Accuracy at 0.49540001153945923\n",
      "Epoch  6, CIFAR-10 Batch 1:  Loss at 0.7201042771339417\n",
      "Validation Accuracy at 0.49000000953674316\n",
      "Epoch  7, CIFAR-10 Batch 1:  Loss at 0.5892017483711243\n",
      "Validation Accuracy at 0.49480000138282776\n",
      "Epoch  8, CIFAR-10 Batch 1:  Loss at 0.4632968008518219\n",
      "Validation Accuracy at 0.48339998722076416\n",
      "Epoch  9, CIFAR-10 Batch 1:  Loss at 0.39788389205932617\n",
      "Validation Accuracy at 0.5041999816894531\n",
      "Epoch 10, CIFAR-10 Batch 1:  Loss at 0.27588891983032227\n",
      "Validation Accuracy at 0.524399995803833\n",
      "Epoch 11, CIFAR-10 Batch 1:  Loss at 0.20723536610603333\n",
      "Validation Accuracy at 0.5415999889373779\n",
      "Epoch 12, CIFAR-10 Batch 1:  Loss at 0.1905253827571869\n",
      "Validation Accuracy at 0.5116000175476074\n",
      "Epoch 13, CIFAR-10 Batch 1:  Loss at 0.13122990727424622\n",
      "Validation Accuracy at 0.5361999869346619\n",
      "Epoch 14, CIFAR-10 Batch 1:  Loss at 0.09922095388174057\n",
      "Validation Accuracy at 0.5234000086784363\n",
      "Epoch 15, CIFAR-10 Batch 1:  Loss at 0.08595897257328033\n",
      "Validation Accuracy at 0.5144000053405762\n",
      "Epoch 16, CIFAR-10 Batch 1:  Loss at 0.05272216722369194\n",
      "Validation Accuracy at 0.5382000207901001\n",
      "Epoch 17, CIFAR-10 Batch 1:  Loss at 0.035887837409973145\n",
      "Validation Accuracy at 0.5601999759674072\n",
      "Epoch 18, CIFAR-10 Batch 1:  Loss at 0.04307141155004501\n",
      "Validation Accuracy at 0.5383999943733215\n",
      "Epoch 19, CIFAR-10 Batch 1:  Loss at 0.032272644340991974\n",
      "Validation Accuracy at 0.5533999800682068\n",
      "Epoch 20, CIFAR-10 Batch 1:  Loss at 0.0276927649974823\n",
      "Validation Accuracy at 0.5350000262260437\n",
      "Epoch 21, CIFAR-10 Batch 1:  Loss at 0.028262734413146973\n",
      "Validation Accuracy at 0.5347999930381775\n",
      "Epoch 22, CIFAR-10 Batch 1:  Loss at 0.048741504549980164\n",
      "Validation Accuracy at 0.5210000276565552\n",
      "Epoch 23, CIFAR-10 Batch 1:  Loss at 0.015273603610694408\n",
      "Validation Accuracy at 0.5461999773979187\n",
      "Epoch 24, CIFAR-10 Batch 1:  Loss at 0.016171390190720558\n",
      "Validation Accuracy at 0.5315999984741211\n",
      "Epoch 25, CIFAR-10 Batch 1:  Loss at 0.01610516384243965\n",
      "Validation Accuracy at 0.5461999773979187\n",
      "Epoch 26, CIFAR-10 Batch 1:  Loss at 0.010441998019814491\n",
      "Validation Accuracy at 0.5486000180244446\n",
      "Epoch 27, CIFAR-10 Batch 1:  Loss at 0.004745216108858585\n",
      "Validation Accuracy at 0.532800018787384\n",
      "Epoch 28, CIFAR-10 Batch 1:  Loss at 0.0016932499129325151\n",
      "Validation Accuracy at 0.5626000165939331\n",
      "Epoch 29, CIFAR-10 Batch 1:  Loss at 0.003996704239398241\n",
      "Validation Accuracy at 0.5550000071525574\n",
      "Epoch 30, CIFAR-10 Batch 1:  Loss at 0.003401282476261258\n",
      "Validation Accuracy at 0.5379999876022339\n"
     ]
    }
   ],
   "source": [
    "\"\"\"\n",
    "DON'T MODIFY ANYTHING IN THIS CELL\n",
    "\"\"\"\n",
    "print('Checking the Training on a Single Batch...')\n",
    "with tf.Session() as sess:\n",
    "    # Initializing the variables\n",
    "    sess.run(tf.global_variables_initializer())\n",
    "    \n",
    "    # Training cycle\n",
    "    for epoch in range(epochs):\n",
    "        batch_i = 1\n",
    "        for batch_features, batch_labels in helper.load_preprocess_training_batch(batch_i, batch_size):\n",
    "            train_neural_network(sess, optimizer, keep_probability, batch_features, batch_labels)\n",
    "        print('Epoch {:>2}, CIFAR-10 Batch {}:  '.format(epoch + 1, batch_i), end='')\n",
    "        print_stats(sess, batch_features, batch_labels, cost, accuracy)"
   ]
  },
  {
   "cell_type": "markdown",
   "metadata": {},
   "source": [
    "### Fully Train the Model\n",
    "Now that you got a good accuracy with a single CIFAR-10 batch, try it with all five batches."
   ]
  },
  {
   "cell_type": "code",
   "execution_count": 235,
   "metadata": {},
   "outputs": [
    {
     "name": "stdout",
     "output_type": "stream",
     "text": [
      "Training...\n",
      "Epoch  1, CIFAR-10 Batch 1:  Loss at 1.8162018060684204\n",
      "Validation Accuracy at 0.35420000553131104\n",
      "Epoch  1, CIFAR-10 Batch 2:  Loss at 1.659094214439392\n",
      "Validation Accuracy at 0.4311999976634979\n",
      "Epoch  1, CIFAR-10 Batch 3:  Loss at 1.3547356128692627\n",
      "Validation Accuracy at 0.4537999927997589\n",
      "Epoch  1, CIFAR-10 Batch 4:  Loss at 1.309494137763977\n",
      "Validation Accuracy at 0.498199999332428\n",
      "Epoch  1, CIFAR-10 Batch 5:  Loss at 1.4143599271774292\n",
      "Validation Accuracy at 0.5285999774932861\n",
      "Epoch  2, CIFAR-10 Batch 1:  Loss at 1.2868492603302002\n",
      "Validation Accuracy at 0.5224000215530396\n",
      "Epoch  2, CIFAR-10 Batch 2:  Loss at 1.152623176574707\n",
      "Validation Accuracy at 0.5288000106811523\n",
      "Epoch  2, CIFAR-10 Batch 3:  Loss at 1.032189130783081\n",
      "Validation Accuracy at 0.5497999787330627\n",
      "Epoch  2, CIFAR-10 Batch 4:  Loss at 1.034113883972168\n",
      "Validation Accuracy at 0.5605999827384949\n",
      "Epoch  2, CIFAR-10 Batch 5:  Loss at 1.0697399377822876\n",
      "Validation Accuracy at 0.5776000022888184\n",
      "Epoch  3, CIFAR-10 Batch 1:  Loss at 1.0371302366256714\n",
      "Validation Accuracy at 0.5532000064849854\n",
      "Epoch  3, CIFAR-10 Batch 2:  Loss at 0.8074684143066406\n",
      "Validation Accuracy at 0.5720000267028809\n",
      "Epoch  3, CIFAR-10 Batch 3:  Loss at 0.7176879048347473\n",
      "Validation Accuracy at 0.5860000252723694\n",
      "Epoch  3, CIFAR-10 Batch 4:  Loss at 0.6814864277839661\n",
      "Validation Accuracy at 0.5893999934196472\n",
      "Epoch  3, CIFAR-10 Batch 5:  Loss at 0.7808998823165894\n",
      "Validation Accuracy at 0.6025999784469604\n",
      "Epoch  4, CIFAR-10 Batch 1:  Loss at 0.7339915037155151\n",
      "Validation Accuracy at 0.5965999960899353\n",
      "Epoch  4, CIFAR-10 Batch 2:  Loss at 0.6144290566444397\n",
      "Validation Accuracy at 0.6032000184059143\n",
      "Epoch  4, CIFAR-10 Batch 3:  Loss at 0.47960883378982544\n",
      "Validation Accuracy at 0.6105999946594238\n",
      "Epoch  4, CIFAR-10 Batch 4:  Loss at 0.5727102160453796\n",
      "Validation Accuracy at 0.6043999791145325\n",
      "Epoch  4, CIFAR-10 Batch 5:  Loss at 0.48925885558128357\n",
      "Validation Accuracy at 0.6101999878883362\n",
      "Epoch  5, CIFAR-10 Batch 1:  Loss at 0.5598874092102051\n",
      "Validation Accuracy at 0.6164000034332275\n",
      "Epoch  5, CIFAR-10 Batch 2:  Loss at 0.4284483790397644\n",
      "Validation Accuracy at 0.6105999946594238\n",
      "Epoch  5, CIFAR-10 Batch 3:  Loss at 0.32441678643226624\n",
      "Validation Accuracy at 0.618399977684021\n",
      "Epoch  5, CIFAR-10 Batch 4:  Loss at 0.4404807984828949\n",
      "Validation Accuracy at 0.6273999810218811\n",
      "Epoch  5, CIFAR-10 Batch 5:  Loss at 0.44640713930130005\n",
      "Validation Accuracy at 0.6151999831199646\n",
      "Epoch  6, CIFAR-10 Batch 1:  Loss at 0.4133380055427551\n",
      "Validation Accuracy at 0.6244000196456909\n",
      "Epoch  6, CIFAR-10 Batch 2:  Loss at 0.35409805178642273\n",
      "Validation Accuracy at 0.6323999762535095\n",
      "Epoch  6, CIFAR-10 Batch 3:  Loss at 0.19715052843093872\n",
      "Validation Accuracy at 0.6398000121116638\n",
      "Epoch  6, CIFAR-10 Batch 4:  Loss at 0.3127100467681885\n",
      "Validation Accuracy at 0.6371999979019165\n",
      "Epoch  6, CIFAR-10 Batch 5:  Loss at 0.2750895023345947\n",
      "Validation Accuracy at 0.6380000114440918\n",
      "Epoch  7, CIFAR-10 Batch 1:  Loss at 0.32119500637054443\n",
      "Validation Accuracy at 0.6290000081062317\n",
      "Epoch  7, CIFAR-10 Batch 2:  Loss at 0.29836902022361755\n",
      "Validation Accuracy at 0.6200000047683716\n",
      "Epoch  7, CIFAR-10 Batch 3:  Loss at 0.1513368785381317\n",
      "Validation Accuracy at 0.6251999735832214\n",
      "Epoch  7, CIFAR-10 Batch 4:  Loss at 0.21713915467262268\n",
      "Validation Accuracy at 0.6304000020027161\n",
      "Epoch  7, CIFAR-10 Batch 5:  Loss at 0.264544814825058\n",
      "Validation Accuracy at 0.6370000243186951\n",
      "Epoch  8, CIFAR-10 Batch 1:  Loss at 0.2965472638607025\n",
      "Validation Accuracy at 0.6266000270843506\n",
      "Epoch  8, CIFAR-10 Batch 2:  Loss at 0.17461274564266205\n",
      "Validation Accuracy at 0.6448000073432922\n",
      "Epoch  8, CIFAR-10 Batch 3:  Loss at 0.08691462129354477\n",
      "Validation Accuracy at 0.6395999789237976\n",
      "Epoch  8, CIFAR-10 Batch 4:  Loss at 0.16452839970588684\n",
      "Validation Accuracy at 0.6399999856948853\n",
      "Epoch  8, CIFAR-10 Batch 5:  Loss at 0.1743045449256897\n",
      "Validation Accuracy at 0.6305999755859375\n",
      "Epoch  9, CIFAR-10 Batch 1:  Loss at 0.18723231554031372\n",
      "Validation Accuracy at 0.6424000263214111\n",
      "Epoch  9, CIFAR-10 Batch 2:  Loss at 0.13423994183540344\n",
      "Validation Accuracy at 0.6284000277519226\n",
      "Epoch  9, CIFAR-10 Batch 3:  Loss at 0.08695094287395477\n",
      "Validation Accuracy at 0.6287999749183655\n",
      "Epoch  9, CIFAR-10 Batch 4:  Loss at 0.1170167475938797\n",
      "Validation Accuracy at 0.6413999795913696\n",
      "Epoch  9, CIFAR-10 Batch 5:  Loss at 0.10586835443973541\n",
      "Validation Accuracy at 0.6376000046730042\n",
      "Epoch 10, CIFAR-10 Batch 1:  Loss at 0.15428151190280914\n",
      "Validation Accuracy at 0.646399974822998\n",
      "Epoch 10, CIFAR-10 Batch 2:  Loss at 0.1110764741897583\n",
      "Validation Accuracy at 0.642799973487854\n",
      "Epoch 10, CIFAR-10 Batch 3:  Loss at 0.07033086568117142\n",
      "Validation Accuracy at 0.6341999769210815\n",
      "Epoch 10, CIFAR-10 Batch 4:  Loss at 0.09007859230041504\n",
      "Validation Accuracy at 0.6377999782562256\n",
      "Epoch 10, CIFAR-10 Batch 5:  Loss at 0.1228441447019577\n",
      "Validation Accuracy at 0.6168000102043152\n",
      "Epoch 11, CIFAR-10 Batch 1:  Loss at 0.12560372054576874\n",
      "Validation Accuracy at 0.6585999727249146\n",
      "Epoch 11, CIFAR-10 Batch 2:  Loss at 0.07634448260068893\n",
      "Validation Accuracy at 0.6245999932289124\n",
      "Epoch 11, CIFAR-10 Batch 3:  Loss at 0.03775227069854736\n",
      "Validation Accuracy at 0.6403999924659729\n",
      "Epoch 11, CIFAR-10 Batch 4:  Loss at 0.08859486877918243\n",
      "Validation Accuracy at 0.6416000127792358\n",
      "Epoch 11, CIFAR-10 Batch 5:  Loss at 0.08122583478689194\n",
      "Validation Accuracy at 0.6399999856948853\n",
      "Epoch 12, CIFAR-10 Batch 1:  Loss at 0.10504791885614395\n",
      "Validation Accuracy at 0.6585999727249146\n",
      "Epoch 12, CIFAR-10 Batch 2:  Loss at 0.08057602494955063\n",
      "Validation Accuracy at 0.6305999755859375\n",
      "Epoch 12, CIFAR-10 Batch 3:  Loss at 0.04943627864122391\n",
      "Validation Accuracy at 0.6291999816894531\n",
      "Epoch 12, CIFAR-10 Batch 4:  Loss at 0.09017074853181839\n",
      "Validation Accuracy at 0.6403999924659729\n",
      "Epoch 12, CIFAR-10 Batch 5:  Loss at 0.05659414455294609\n",
      "Validation Accuracy at 0.6520000100135803\n",
      "Epoch 13, CIFAR-10 Batch 1:  Loss at 0.05598937347531319\n",
      "Validation Accuracy at 0.6449999809265137\n",
      "Epoch 13, CIFAR-10 Batch 2:  Loss at 0.0498666986823082\n",
      "Validation Accuracy at 0.6068000197410583\n",
      "Epoch 13, CIFAR-10 Batch 3:  Loss at 0.01956205815076828\n",
      "Validation Accuracy at 0.6327999830245972\n",
      "Epoch 13, CIFAR-10 Batch 4:  Loss at 0.06393697112798691\n",
      "Validation Accuracy at 0.6330000162124634\n",
      "Epoch 13, CIFAR-10 Batch 5:  Loss at 0.06341265141963959\n",
      "Validation Accuracy at 0.6614000201225281\n",
      "Epoch 14, CIFAR-10 Batch 1:  Loss at 0.04161417484283447\n",
      "Validation Accuracy at 0.6600000262260437\n",
      "Epoch 14, CIFAR-10 Batch 2:  Loss at 0.047069139778614044\n",
      "Validation Accuracy at 0.5852000117301941\n",
      "Epoch 14, CIFAR-10 Batch 3:  Loss at 0.018129542469978333\n",
      "Validation Accuracy at 0.6514000296592712\n",
      "Epoch 14, CIFAR-10 Batch 4:  Loss at 0.0655762106180191\n",
      "Validation Accuracy at 0.6182000041007996\n",
      "Epoch 14, CIFAR-10 Batch 5:  Loss at 0.05954796075820923\n",
      "Validation Accuracy at 0.6344000101089478\n",
      "Epoch 15, CIFAR-10 Batch 1:  Loss at 0.021543076261878014\n",
      "Validation Accuracy at 0.6606000065803528\n",
      "Epoch 15, CIFAR-10 Batch 2:  Loss at 0.011233997531235218\n",
      "Validation Accuracy at 0.6331999897956848\n",
      "Epoch 15, CIFAR-10 Batch 3:  Loss at 0.016082823276519775\n",
      "Validation Accuracy at 0.6660000085830688\n",
      "Epoch 15, CIFAR-10 Batch 4:  Loss at 0.02536414936184883\n",
      "Validation Accuracy at 0.6534000039100647\n",
      "Epoch 15, CIFAR-10 Batch 5:  Loss at 0.03519533947110176\n",
      "Validation Accuracy at 0.6371999979019165\n",
      "Epoch 16, CIFAR-10 Batch 1:  Loss at 0.01827177032828331\n",
      "Validation Accuracy at 0.6467999815940857\n",
      "Epoch 16, CIFAR-10 Batch 2:  Loss at 0.01726485602557659\n",
      "Validation Accuracy at 0.6547999978065491\n",
      "Epoch 16, CIFAR-10 Batch 3:  Loss at 0.02267203852534294\n",
      "Validation Accuracy at 0.6711999773979187\n",
      "Epoch 16, CIFAR-10 Batch 4:  Loss at 0.026488488540053368\n",
      "Validation Accuracy at 0.6561999917030334\n",
      "Epoch 16, CIFAR-10 Batch 5:  Loss at 0.032650820910930634\n",
      "Validation Accuracy at 0.6462000012397766\n",
      "Epoch 17, CIFAR-10 Batch 1:  Loss at 0.013228215277194977\n",
      "Validation Accuracy at 0.6585999727249146\n",
      "Epoch 17, CIFAR-10 Batch 2:  Loss at 0.005441875196993351\n",
      "Validation Accuracy at 0.6499999761581421\n",
      "Epoch 17, CIFAR-10 Batch 3:  Loss at 0.009785337373614311\n"
     ]
    },
    {
     "name": "stdout",
     "output_type": "stream",
     "text": [
      "Validation Accuracy at 0.6552000045776367\n",
      "Epoch 17, CIFAR-10 Batch 4:  Loss at 0.01585063338279724\n",
      "Validation Accuracy at 0.6561999917030334\n",
      "Epoch 17, CIFAR-10 Batch 5:  Loss at 0.02155902609229088\n",
      "Validation Accuracy at 0.6510000228881836\n",
      "Epoch 18, CIFAR-10 Batch 1:  Loss at 0.011915672570466995\n",
      "Validation Accuracy at 0.6585999727249146\n",
      "Epoch 18, CIFAR-10 Batch 2:  Loss at 0.007708118762820959\n",
      "Validation Accuracy at 0.6525999903678894\n",
      "Epoch 18, CIFAR-10 Batch 3:  Loss at 0.006856820080429316\n",
      "Validation Accuracy at 0.6359999775886536\n",
      "Epoch 18, CIFAR-10 Batch 4:  Loss at 0.01775938831269741\n",
      "Validation Accuracy at 0.6507999897003174\n",
      "Epoch 18, CIFAR-10 Batch 5:  Loss at 0.017083432525396347\n",
      "Validation Accuracy at 0.63919997215271\n",
      "Epoch 19, CIFAR-10 Batch 1:  Loss at 0.019107626751065254\n",
      "Validation Accuracy at 0.6621999740600586\n",
      "Epoch 19, CIFAR-10 Batch 2:  Loss at 0.009773925878107548\n",
      "Validation Accuracy at 0.6597999930381775\n",
      "Epoch 19, CIFAR-10 Batch 3:  Loss at 0.007813875563442707\n",
      "Validation Accuracy at 0.6444000005722046\n",
      "Epoch 19, CIFAR-10 Batch 4:  Loss at 0.015331780537962914\n",
      "Validation Accuracy at 0.6535999774932861\n",
      "Epoch 19, CIFAR-10 Batch 5:  Loss at 0.019576270133256912\n",
      "Validation Accuracy at 0.6618000268936157\n",
      "Epoch 20, CIFAR-10 Batch 1:  Loss at 0.011803793720901012\n",
      "Validation Accuracy at 0.6624000072479248\n",
      "Epoch 20, CIFAR-10 Batch 2:  Loss at 0.017400424927473068\n",
      "Validation Accuracy at 0.6241999864578247\n",
      "Epoch 20, CIFAR-10 Batch 3:  Loss at 0.0049591357819736\n",
      "Validation Accuracy at 0.6402000188827515\n",
      "Epoch 20, CIFAR-10 Batch 4:  Loss at 0.007277066819369793\n",
      "Validation Accuracy at 0.6675999760627747\n",
      "Epoch 20, CIFAR-10 Batch 5:  Loss at 0.017002884298563004\n",
      "Validation Accuracy at 0.6643999814987183\n",
      "Epoch 21, CIFAR-10 Batch 1:  Loss at 0.006750460714101791\n",
      "Validation Accuracy at 0.6618000268936157\n",
      "Epoch 21, CIFAR-10 Batch 2:  Loss at 0.01048723328858614\n",
      "Validation Accuracy at 0.6597999930381775\n",
      "Epoch 21, CIFAR-10 Batch 3:  Loss at 0.0023633793462067842\n",
      "Validation Accuracy at 0.659600019454956\n",
      "Epoch 21, CIFAR-10 Batch 4:  Loss at 0.01130233146250248\n",
      "Validation Accuracy at 0.6575999855995178\n",
      "Epoch 21, CIFAR-10 Batch 5:  Loss at 0.009005783125758171\n",
      "Validation Accuracy at 0.6678000092506409\n",
      "Epoch 22, CIFAR-10 Batch 1:  Loss at 0.01538305263966322\n",
      "Validation Accuracy at 0.645799994468689\n",
      "Epoch 22, CIFAR-10 Batch 2:  Loss at 0.002513361629098654\n",
      "Validation Accuracy at 0.6488000154495239\n",
      "Epoch 22, CIFAR-10 Batch 3:  Loss at 0.002546632196754217\n",
      "Validation Accuracy at 0.6498000025749207\n",
      "Epoch 22, CIFAR-10 Batch 4:  Loss at 0.016668615862727165\n",
      "Validation Accuracy at 0.6556000113487244\n",
      "Epoch 22, CIFAR-10 Batch 5:  Loss at 0.01108364574611187\n",
      "Validation Accuracy at 0.6467999815940857\n",
      "Epoch 23, CIFAR-10 Batch 1:  Loss at 0.0036067538894712925\n",
      "Validation Accuracy at 0.6638000011444092\n",
      "Epoch 23, CIFAR-10 Batch 2:  Loss at 0.0033802215475589037\n",
      "Validation Accuracy at 0.6633999943733215\n",
      "Epoch 23, CIFAR-10 Batch 3:  Loss at 0.005569189786911011\n",
      "Validation Accuracy at 0.6488000154495239\n",
      "Epoch 23, CIFAR-10 Batch 4:  Loss at 0.007946438156068325\n",
      "Validation Accuracy at 0.6611999869346619\n",
      "Epoch 23, CIFAR-10 Batch 5:  Loss at 0.015018192119896412\n",
      "Validation Accuracy at 0.6593999862670898\n",
      "Epoch 24, CIFAR-10 Batch 1:  Loss at 0.009236288256943226\n",
      "Validation Accuracy at 0.6552000045776367\n",
      "Epoch 24, CIFAR-10 Batch 2:  Loss at 0.0009507861104793847\n",
      "Validation Accuracy at 0.6754000186920166\n",
      "Epoch 24, CIFAR-10 Batch 3:  Loss at 0.0021873931400477886\n",
      "Validation Accuracy at 0.6704000234603882\n",
      "Epoch 24, CIFAR-10 Batch 4:  Loss at 0.00868840329349041\n",
      "Validation Accuracy at 0.6743999719619751\n",
      "Epoch 24, CIFAR-10 Batch 5:  Loss at 0.00537226814776659\n",
      "Validation Accuracy at 0.6669999957084656\n",
      "Epoch 25, CIFAR-10 Batch 1:  Loss at 0.0038382303901016712\n",
      "Validation Accuracy at 0.6625999808311462\n",
      "Epoch 25, CIFAR-10 Batch 2:  Loss at 0.0018439444247633219\n",
      "Validation Accuracy at 0.6654000282287598\n",
      "Epoch 25, CIFAR-10 Batch 3:  Loss at 0.0017015092307701707\n",
      "Validation Accuracy at 0.6625999808311462\n",
      "Epoch 25, CIFAR-10 Batch 4:  Loss at 0.010115054436028004\n",
      "Validation Accuracy at 0.6574000120162964\n",
      "Epoch 25, CIFAR-10 Batch 5:  Loss at 0.003554218914359808\n",
      "Validation Accuracy at 0.6624000072479248\n",
      "Epoch 26, CIFAR-10 Batch 1:  Loss at 0.006781313568353653\n",
      "Validation Accuracy at 0.6557999849319458\n",
      "Epoch 26, CIFAR-10 Batch 2:  Loss at 0.004695403389632702\n",
      "Validation Accuracy at 0.650600016117096\n",
      "Epoch 26, CIFAR-10 Batch 3:  Loss at 0.0011124775046482682\n",
      "Validation Accuracy at 0.6503999829292297\n",
      "Epoch 26, CIFAR-10 Batch 4:  Loss at 0.0055197193287312984\n",
      "Validation Accuracy at 0.6615999937057495\n",
      "Epoch 26, CIFAR-10 Batch 5:  Loss at 0.0021981599275022745\n",
      "Validation Accuracy at 0.6647999882698059\n",
      "Epoch 27, CIFAR-10 Batch 1:  Loss at 0.005643924232572317\n",
      "Validation Accuracy at 0.6571999788284302\n",
      "Epoch 27, CIFAR-10 Batch 2:  Loss at 0.002789075719192624\n",
      "Validation Accuracy at 0.6615999937057495\n",
      "Epoch 27, CIFAR-10 Batch 3:  Loss at 0.00035922968527302146\n",
      "Validation Accuracy at 0.6615999937057495\n",
      "Epoch 27, CIFAR-10 Batch 4:  Loss at 0.004533129278570414\n",
      "Validation Accuracy at 0.6656000018119812\n",
      "Epoch 27, CIFAR-10 Batch 5:  Loss at 0.0012096625287085772\n",
      "Validation Accuracy at 0.6697999835014343\n",
      "Epoch 28, CIFAR-10 Batch 1:  Loss at 0.014731091447174549\n",
      "Validation Accuracy at 0.6499999761581421\n",
      "Epoch 28, CIFAR-10 Batch 2:  Loss at 0.0035491683520376682\n",
      "Validation Accuracy at 0.6539999842643738\n",
      "Epoch 28, CIFAR-10 Batch 3:  Loss at 0.005162122193723917\n",
      "Validation Accuracy at 0.6679999828338623\n",
      "Epoch 28, CIFAR-10 Batch 4:  Loss at 0.0016455926233902574\n",
      "Validation Accuracy at 0.6747999787330627\n",
      "Epoch 28, CIFAR-10 Batch 5:  Loss at 0.002062401035800576\n",
      "Validation Accuracy at 0.670799970626831\n",
      "Epoch 29, CIFAR-10 Batch 1:  Loss at 0.00407085195183754\n",
      "Validation Accuracy at 0.657800018787384\n",
      "Epoch 29, CIFAR-10 Batch 2:  Loss at 0.003620089264586568\n",
      "Validation Accuracy at 0.6510000228881836\n",
      "Epoch 29, CIFAR-10 Batch 3:  Loss at 0.0010614078491926193\n",
      "Validation Accuracy at 0.6628000140190125\n",
      "Epoch 29, CIFAR-10 Batch 4:  Loss at 0.004072216339409351\n",
      "Validation Accuracy at 0.659600019454956\n",
      "Epoch 29, CIFAR-10 Batch 5:  Loss at 0.0023765447549521923\n",
      "Validation Accuracy at 0.6728000044822693\n",
      "Epoch 30, CIFAR-10 Batch 1:  Loss at 0.0018846584716811776\n",
      "Validation Accuracy at 0.659600019454956\n",
      "Epoch 30, CIFAR-10 Batch 2:  Loss at 0.001523189595900476\n",
      "Validation Accuracy at 0.6556000113487244\n",
      "Epoch 30, CIFAR-10 Batch 3:  Loss at 0.0073915282264351845\n",
      "Validation Accuracy at 0.6521999835968018\n",
      "Epoch 30, CIFAR-10 Batch 4:  Loss at 0.016869720071554184\n",
      "Validation Accuracy at 0.6575999855995178\n",
      "Epoch 30, CIFAR-10 Batch 5:  Loss at 0.0011588865891098976\n",
      "Validation Accuracy at 0.670199990272522\n"
     ]
    }
   ],
   "source": [
    "\"\"\"\n",
    "DON'T MODIFY ANYTHING IN THIS CELL\n",
    "\"\"\"\n",
    "save_model_path = './image_classification'\n",
    "\n",
    "print('Training...')\n",
    "with tf.Session() as sess:\n",
    "    # Initializing the variables\n",
    "    sess.run(tf.global_variables_initializer())\n",
    "    \n",
    "    # Training cycle\n",
    "    for epoch in range(epochs):\n",
    "        # Loop over all batches\n",
    "        n_batches = 5\n",
    "        for batch_i in range(1, n_batches + 1):\n",
    "            for batch_features, batch_labels in helper.load_preprocess_training_batch(batch_i, batch_size):\n",
    "                train_neural_network(sess, optimizer, keep_probability, batch_features, batch_labels)\n",
    "            print('Epoch {:>2}, CIFAR-10 Batch {}:  '.format(epoch + 1, batch_i), end='')\n",
    "            print_stats(sess, batch_features, batch_labels, cost, accuracy)\n",
    "            \n",
    "    # Save Model\n",
    "    saver = tf.train.Saver()\n",
    "    save_path = saver.save(sess, save_model_path)"
   ]
  },
  {
   "cell_type": "markdown",
   "metadata": {},
   "source": [
    "# Checkpoint\n",
    "The model has been saved to disk.\n",
    "## Test Model\n",
    "Test your model against the test dataset.  This will be your final accuracy. You should have an accuracy greater than 50%. If you don't, keep tweaking the model architecture and parameters."
   ]
  },
  {
   "cell_type": "code",
   "execution_count": 236,
   "metadata": {},
   "outputs": [
    {
     "name": "stdout",
     "output_type": "stream",
     "text": [
      "INFO:tensorflow:Restoring parameters from ./image_classification\n",
      "Testing Accuracy: 0.6653481012658228\n",
      "\n"
     ]
    },
    {
     "data": {
      "image/png": "[encoded data removed]",
      "text/plain": [
       "<matplotlib.figure.Figure at 0x18080c91da0>"
      ]
     },
     "metadata": {
      "image/png": {
       "height": 319,
       "width": 355
      }
     },
     "output_type": "display_data"
    }
   ],
   "source": [
    "\"\"\"\n",
    "DON'T MODIFY ANYTHING IN THIS CELL\n",
    "\"\"\"\n",
    "%matplotlib inline\n",
    "%config InlineBackend.figure_format = 'retina'\n",
    "\n",
    "import tensorflow as tf\n",
    "import pickle\n",
    "import helper\n",
    "import random\n",
    "\n",
    "# Set batch size if not already set\n",
    "try:\n",
    "    if batch_size:\n",
    "        pass\n",
    "except NameError:\n",
    "    batch_size = 64\n",
    "\n",
    "save_model_path = './image_classification'\n",
    "n_samples = 4\n",
    "top_n_predictions = 3\n",
    "\n",
    "def test_model():\n",
    "    \"\"\"\n",
    "    Test the saved model against the test dataset\n",
    "    \"\"\"\n",
    "\n",
    "    test_features, test_labels = pickle.load(open('preprocess_test.p', mode='rb'))\n",
    "    loaded_graph = tf.Graph()\n",
    "\n",
    "    with tf.Session(graph=loaded_graph) as sess:\n",
    "        # Load model\n",
    "        loader = tf.train.import_meta_graph(save_model_path + '.meta')\n",
    "        loader.restore(sess, save_model_path)\n",
    "\n",
    "        # Get Tensors from loaded model\n",
    "        loaded_x = loaded_graph.get_tensor_by_name('x:0')\n",
    "        loaded_y = loaded_graph.get_tensor_by_name('y:0')\n",
    "        loaded_keep_prob = loaded_graph.get_tensor_by_name('keep_prob:0')\n",
    "        loaded_logits = loaded_graph.get_tensor_by_name('logits:0')\n",
    "        loaded_acc = loaded_graph.get_tensor_by_name('accuracy:0')\n",
    "        \n",
    "        # Get accuracy in batches for memory limitations\n",
    "        test_batch_acc_total = 0\n",
    "        test_batch_count = 0\n",
    "        \n",
    "        for test_feature_batch, test_label_batch in helper.batch_features_labels(test_features, test_labels, batch_size):\n",
    "            test_batch_acc_total += sess.run(\n",
    "                loaded_acc,\n",
    "                feed_dict={loaded_x: test_feature_batch, loaded_y: test_label_batch, loaded_keep_prob: 1.0})\n",
    "            test_batch_count += 1\n",
    "\n",
    "        print('Testing Accuracy: {}\\n'.format(test_batch_acc_total/test_batch_count))\n",
    "\n",
    "        # Print Random Samples\n",
    "        random_test_features, random_test_labels = tuple(zip(*random.sample(list(zip(test_features, test_labels)), n_samples)))\n",
    "        random_test_predictions = sess.run(\n",
    "            tf.nn.top_k(tf.nn.softmax(loaded_logits), top_n_predictions),\n",
    "            feed_dict={loaded_x: random_test_features, loaded_y: random_test_labels, loaded_keep_prob: 1.0})\n",
    "        helper.display_image_predictions(random_test_features, random_test_labels, random_test_predictions)\n",
    "\n",
    "\n",
    "test_model()"
   ]
  },
  {
   "cell_type": "markdown",
   "metadata": {},
   "source": [
    "## Why 50-80% Accuracy?\n",
    "You might be wondering why you can't get an accuracy any higher. First things first, 50% isn't bad for a simple CNN.  Pure guessing would get you 10% accuracy. However, you might notice people are getting scores [well above 80%](http://rodrigob.github.io/are_we_there_yet/build/classification_datasets_results.html#43494641522d3130).  That's because we haven't taught you all there is to know about neural networks. We still need to cover a few more techniques.\n",
    "## Submitting This Project\n",
    "When submitting this project, make sure to run all the cells before saving the notebook.  Save the notebook file as \"dlnd_image_classification.ipynb\" and save it as a HTML file under \"File\" -> \"Download as\".  Include the \"helper.py\" and \"problem_unittests.py\" files in your submission."
   ]
  }
 ],
 "metadata": {
  "kernelspec": {
   "display_name": "Python 3",
   "language": "python",
   "name": "python3"
  },
  "language_info": {
   "codemirror_mode": {
    "name": "ipython",
    "version": 3
   },
   "file_extension": ".py",
   "mimetype": "text/x-python",
   "name": "python",
   "nbconvert_exporter": "python",
   "pygments_lexer": "ipython3",
   "version": "3.5.4"
  }
 },
 "nbformat": 4,
 "nbformat_minor": 1
}
